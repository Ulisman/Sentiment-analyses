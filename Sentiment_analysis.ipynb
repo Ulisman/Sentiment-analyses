{
  "nbformat": 4,
  "nbformat_minor": 0,
  "metadata": {
    "colab": {
      "name": "Sentiment-analysis.ipynb",
      "provenance": [],
      "collapsed_sections": [],
      "authorship_tag": "ABX9TyOLnhd/yKJiyM40vZTrCLzC",
      "include_colab_link": true
    },
    "kernelspec": {
      "name": "python3",
      "display_name": "Python 3"
    },
    "language_info": {
      "name": "python"
    }
  },
  "cells": [
    {
      "cell_type": "markdown",
      "metadata": {
        "id": "view-in-github",
        "colab_type": "text"
      },
      "source": [
        "<a href=\"https://colab.research.google.com/github/Ulisman/Sentiment-analysis/blob/main/Sentiment_analysis.ipynb\" target=\"_parent\"><img src=\"https://colab.research.google.com/assets/colab-badge.svg\" alt=\"Open In Colab\"/></a>"
      ]
    },
    {
      "cell_type": "code",
      "metadata": {
        "id": "yGzIkCWY8phq",
        "colab": {
          "base_uri": "https://localhost:8080/"
        },
        "outputId": "57a56e64-1690-453d-c1c6-54c5df1f1803"
      },
      "source": [
        "!pip3 install tensorflow_text"
      ],
      "execution_count": null,
      "outputs": [
        {
          "output_type": "stream",
          "text": [
            "Installing collected packages: tensorflow-text\n",
            "Successfully installed tensorflow-text-2.5.0\n"
          ],
          "name": "stdout"
        }
      ]
    },
    {
      "cell_type": "code",
      "metadata": {
        "id": "ZJExvXRRRDvg",
        "colab": {
          "base_uri": "https://localhost:8080/"
        },
        "outputId": "a7da051a-13c7-40d1-d2c7-7e16bbc31100"
      },
      "source": [
        "import csv\n",
        "import string\n",
        "import numpy as np\n",
        "import tensorflow as tf\n",
        "import gensim\n",
        "from nltk.corpus import stopwords\n",
        "from tensorflow import keras\n",
        "from tensorflow.keras.preprocessing.text import Tokenizer\n",
        "from tensorflow.keras.preprocessing.sequence import pad_sequences\n",
        "from gensim.models import Word2Vec, KeyedVectors\n",
        "import tensorflow_hub as hub\n",
        "import tensorflow_text as text"
      ],
      "execution_count": null,
      "outputs": [
        {
          "output_type": "stream",
          "text": [
            "[nltk_data] Downloading package stopwords to /root/nltk_data...\n",
            "[nltk_data]   Unzipping corpora/stopwords.zip.\n"
          ],
          "name": "stdout"
        }
      ]
    },
    {
      "cell_type": "markdown",
      "metadata": {
        "id": "5lLA5dr8SJvM"
      },
      "source": [
        "### Data- preprocessing and exploration"
      ]
    },
    {
      "cell_type": "code",
      "metadata": {
        "id": "2mT-_ZwW_NyH"
      },
      "source": [
        "#Loading all the data\n",
        "labels = []\n",
        "sentences = []\n",
        "with open('review-sentiments.csv') as csvfile:\n",
        "  reader = csv.reader(csvfile, delimiter=';')\n",
        "  for row in reader:\n",
        "    labels.append(int(row[0]))\n",
        "    sentences.append(row[1])\n"
      ],
      "execution_count": null,
      "outputs": []
    },
    {
      "cell_type": "code",
      "metadata": {
        "id": "xDw2vKZLY41f"
      },
      "source": [
        "#Loading with only two labels - binary classification:\n",
        "labels = []\n",
        "sentences = []\n",
        "with open('review-sentiments.csv') as csvfile:\n",
        "  reader = csv.reader(csvfile, delimiter=';')\n",
        "  for row in reader:\n",
        "    label = int(row[0])\n",
        "    if label == 1 or label == 2: #The excellent and good ratings get assigned the label \"0\"\n",
        "      labels.append(0)\n",
        "      sentences.append(row[1])\n",
        "    elif label == 4 or label == 5: #The poor and terrible ratings get assinged the label \"1\"\n",
        "      labels.append(1)\n",
        "      sentences.append(row[1])\n",
        "    else: #Average ratings are not used becuase they have very mixed signals\n",
        "      pass"
      ],
      "execution_count": null,
      "outputs": []
    },
    {
      "cell_type": "code",
      "metadata": {
        "colab": {
          "base_uri": "https://localhost:8080/"
        },
        "id": "66B9Dr8OCyH0",
        "outputId": "761ccc19-e315-4a1d-ecc6-87a78d074b7a"
      },
      "source": [
        "len(sentences) #28266 unique reviews in the dataset when we load with only two labels"
      ],
      "execution_count": null,
      "outputs": [
        {
          "output_type": "execute_result",
          "data": {
            "text/plain": [
              "28266"
            ]
          },
          "metadata": {
            "tags": []
          },
          "execution_count": 9
        }
      ]
    },
    {
      "cell_type": "code",
      "metadata": {
        "colab": {
          "base_uri": "https://localhost:8080/"
        },
        "id": "kUv1kcIWlzxM",
        "outputId": "2be16c0d-1910-44ba-e9b9-66660f8dd4a1"
      },
      "source": [
        "#Finding how many instances of each label there are in the dataset using pandas value_counts\n",
        "import pandas as pd\n",
        "uniques = pd.Series(labels)\n",
        "uniques.value_counts()\n",
        "\n",
        "#Conlcusion: The dataset is slightly imblanced"
      ],
      "execution_count": null,
      "outputs": [
        {
          "output_type": "execute_result",
          "data": {
            "text/plain": [
              "1    14469\n",
              "0    13797\n",
              "dtype: int64"
            ]
          },
          "metadata": {
            "tags": []
          },
          "execution_count": 30
        }
      ]
    },
    {
      "cell_type": "code",
      "metadata": {
        "id": "6OvoAuv1D51B"
      },
      "source": [
        "#Cleaning the text by removing '\\n', stopwords and punctuations\n",
        "stop_words = set(stopwords.words('english'))\n",
        "\n",
        "def clean(sentence_list):\n",
        "  arr = []\n",
        "   #remove \"\\n\" from the sentences\n",
        "  punctuations = str.maketrans('', '', string.punctuation) #remove punctuations from the sentences\n",
        "  for sentence in sentence_list:\n",
        "    sentence = sentence.replace('\\n', ' ')\n",
        "    sentence = sentence.replace('...More', ' ') #Some of the scraped review-texts did not get fully scraped, so this will remove the '...More' ending that appears in those review-texts\n",
        "    sentence_stopwords = ''\n",
        "    for word in sentence.split(' '):\n",
        "      if word not in stop_words: #Removes stopwords\n",
        "        sentence_stopwords += word + \" \"\n",
        "    sentence_cleaned = sentence_stopwords.translate(punctuations)\n",
        "    arr.append(sentence_cleaned.lower())\n",
        "  return arr"
      ],
      "execution_count": null,
      "outputs": []
    },
    {
      "cell_type": "code",
      "metadata": {
        "colab": {
          "base_uri": "https://localhost:8080/"
        },
        "id": "JXXcvI8ULQch",
        "outputId": "0bf5713e-0c37-48e9-d4c9-781b94a9fb2c"
      },
      "source": [
        "cleaned_sentences = clean(sentences)\n",
        "\n",
        "print(\"Before: \", sentences[2])\n",
        "print(\"After: \", cleaned_sentences[2])"
      ],
      "execution_count": null,
      "outputs": [
        {
          "output_type": "stream",
          "text": [
            "Before:  Piccolo is outstanding\n",
            "Simply love the food here.  Accommodating outdoor seating with Covid. \n",
            "Tiramisu is delicious\n",
            "After:  piccolo outstanding simply love food here  accommodating outdoor seating covid  tiramisu delicious \n"
          ],
          "name": "stdout"
        }
      ]
    },
    {
      "cell_type": "code",
      "metadata": {
        "id": "kOyXBhwuszf2"
      },
      "source": [
        "#Splitting the data into training and testing\n",
        "from sklearn.model_selection import train_test_split\n",
        "X_train, X_test, y_train, y_test = train_test_split(cleaned_sentences, labels, test_size=1/3, random_state=42)"
      ],
      "execution_count": null,
      "outputs": []
    },
    {
      "cell_type": "code",
      "metadata": {
        "colab": {
          "base_uri": "https://localhost:8080/"
        },
        "id": "1AwLUTk3tVJ9",
        "outputId": "001b5740-a5c5-495b-c0f4-ef37a0bfd686"
      },
      "source": [
        "len(X_train)"
      ],
      "execution_count": null,
      "outputs": [
        {
          "output_type": "execute_result",
          "data": {
            "text/plain": [
              "18844"
            ]
          },
          "metadata": {
            "tags": []
          },
          "execution_count": 27
        }
      ]
    },
    {
      "cell_type": "markdown",
      "metadata": {
        "id": "sOokMzQFSR8S"
      },
      "source": [
        "### Tokenization"
      ]
    },
    {
      "cell_type": "code",
      "metadata": {
        "id": "akmKvUJ9Ujy2"
      },
      "source": [
        "#Tokenizing and sequenceing the data. This is basically swapping the words of a sentence out with an integer that represents that word\n",
        "max_len = 150# max(len(sent) for sent in training_sentences)\n",
        "trunc_type = 'post'\n",
        "padding_type = 'post'\n",
        "\n",
        "tokenizer = Tokenizer(num_words=2500, oov_token='<OOV>') #\"num_words=1000\" chooses the top 1000 words by volume\n",
        "tokenizer.fit_on_texts(X_train)\n",
        "word_index = tokenizer.word_index\n",
        "\n",
        "training_sequences = tokenizer.texts_to_sequences(X_train) #\n",
        "training_sequences_padded = pad_sequences(training_sequences, maxlen=max_len, padding=padding_type)\n",
        "\n",
        "test_sequences = tokenizer.texts_to_sequences(X_test)\n",
        "test_sequences_padded = pad_sequences(test_sequences, maxlen=max_len, padding=padding_type)"
      ],
      "execution_count": null,
      "outputs": []
    },
    {
      "cell_type": "code",
      "metadata": {
        "id": "vw4gfq5_VEzA"
      },
      "source": [
        "#Converting to ndarrays\n",
        "training_sequences_padded = np.array(training_sequences_padded)\n",
        "training_labels = np.array(y_train)\n",
        "test_sequences_padded = np.array(test_sequences_padded)\n",
        "test_labels = np.array(y_test)\n",
        "\n",
        "#reshaping label to 2d-tensor:\n",
        "#training_labels = np.asarray(y_train).astype('float32').reshape((-1,1))\n",
        "#test_labels = np.asarray(y_test).astype('float32').reshape((-1,1))"
      ],
      "execution_count": null,
      "outputs": []
    },
    {
      "cell_type": "code",
      "metadata": {
        "id": "nLGEENMBYUBb"
      },
      "source": [
        "#Parameters:\n",
        "embedding_dim = 100\n",
        "vocab_size = 2500 + 1#len(word_index) + 1 #2000 best results so far"
      ],
      "execution_count": null,
      "outputs": []
    },
    {
      "cell_type": "markdown",
      "metadata": {
        "id": "cjUwGrQumGXV"
      },
      "source": [
        "### Testing machinge learning algorithms\n",
        "\n"
      ]
    },
    {
      "cell_type": "markdown",
      "metadata": {
        "id": "AEafc3DVBOz4"
      },
      "source": [
        "\n",
        "> Traditional machine learning algorithms can perform better than deep neural networks in some cases. Therefore I wanted to compare them\n",
        "\n",
        "\n"
      ]
    },
    {
      "cell_type": "code",
      "metadata": {
        "id": "TC9cOdY0DZRo"
      },
      "source": [
        "from sklearn.metrics import accuracy_score\n",
        "from xgboost import XGBClassifier\n",
        "from sklearn.model_selection import cross_val_score\n",
        "from sklearn.linear_model import LogisticRegression\n",
        "from sklearn.ensemble import RandomForestClassifier\n",
        "from sklearn.naive_bayes import GaussianNB\n",
        "\n",
        "def accuracy(alg, xtrain, ytrain, xtest, ytest):\n",
        "  cv = cross_val_score(alg, xtrain, ytrain, cv=5)\n",
        "  print(\"Cross-val: \", cv.mean())\n",
        "\n",
        "  alg.fit(xtrain, ytrain)\n",
        "  ypred = alg.predict(xtest)\n",
        "  print(\"Accuracy_score: \", accuracy_score(ytest, ypred))"
      ],
      "execution_count": null,
      "outputs": []
    },
    {
      "cell_type": "code",
      "metadata": {
        "colab": {
          "base_uri": "https://localhost:8080/"
        },
        "id": "EQvXYEaohb5Z",
        "outputId": "0b94387e-1061-4644-b18a-005cd3768bf4"
      },
      "source": [
        "xgb = XGBClassifier(n_estimators=100)\n",
        "accuracy(xgb, training_sequences_padded, training_labels, test_sequences_padded, test_labels)"
      ],
      "execution_count": null,
      "outputs": [
        {
          "output_type": "stream",
          "text": [
            "Cross-val:  0.6234346825341834\n",
            "Accuracy_score:  0.6272553597962216\n"
          ],
          "name": "stdout"
        }
      ]
    },
    {
      "cell_type": "code",
      "metadata": {
        "id": "ETbpmnw3joBw",
        "colab": {
          "base_uri": "https://localhost:8080/"
        },
        "outputId": "b96cfb9a-dba8-4086-ba0e-ebd01c7a11d7"
      },
      "source": [
        "rf = RandomForestClassifier(random_state=42)\n",
        "accuracy(rf, training_sequences_padded, training_labels, test_sequences_padded, test_labels)"
      ],
      "execution_count": null,
      "outputs": [
        {
          "output_type": "stream",
          "text": [
            "Cross-val:  0.6336764638781343\n",
            "Accuracy_score:  0.6404160475482912\n"
          ],
          "name": "stdout"
        }
      ]
    },
    {
      "cell_type": "code",
      "metadata": {
        "id": "tBrPTZnSnRcV"
      },
      "source": [
        "#XGBoost and RandomForest do not need scaled data becuase they are essentially made up of many decision trees which do not use gradient descent for optimization\n",
        "from sklearn import preprocessing \n",
        "\n",
        "scaler = preprocessing.StandardScaler().fit(training_sequences_padded)\n",
        "scaled_xtrain = scaler.transform(training_sequences_padded)\n",
        "scaled_xtest = scaler.transform(test_sequences_padded)"
      ],
      "execution_count": null,
      "outputs": []
    },
    {
      "cell_type": "code",
      "metadata": {
        "id": "90XX6gOcjWES",
        "colab": {
          "base_uri": "https://localhost:8080/"
        },
        "outputId": "9c884422-65a1-45d6-f13d-ab64564375a0"
      },
      "source": [
        "lr = LogisticRegression(max_iter=1000)\n",
        "accuracy(lr, scaled_xtrain, training_labels, scaled_xtest, test_labels)"
      ],
      "execution_count": null,
      "outputs": [
        {
          "output_type": "stream",
          "text": [
            "Cross-val:  0.5984391045736281\n",
            "Accuracy_score:  0.5995542347696879\n"
          ],
          "name": "stdout"
        }
      ]
    },
    {
      "cell_type": "code",
      "metadata": {
        "colab": {
          "base_uri": "https://localhost:8080/"
        },
        "id": "gBWCQ0mVjaNl",
        "outputId": "113b589e-f618-4ca8-8246-bfe3ad7dd16f"
      },
      "source": [
        "nb = GaussianNB()\n",
        "accuracy(nb, scaled_xtrain, training_labels, scaled_xtest, test_labels)"
      ],
      "execution_count": null,
      "outputs": [
        {
          "output_type": "stream",
          "text": [
            "Cross-val:  0.5646355000199977\n",
            "Accuracy_score:  0.5759923583103375\n"
          ],
          "name": "stdout"
        }
      ]
    },
    {
      "cell_type": "markdown",
      "metadata": {
        "id": "Okktak1eiE8v"
      },
      "source": [
        "### Using LSTM"
      ]
    },
    {
      "cell_type": "code",
      "metadata": {
        "colab": {
          "base_uri": "https://localhost:8080/"
        },
        "id": "T4pzmdhifkaf",
        "outputId": "64e2114d-34a8-40e1-87cb-0c8b92862ed3"
      },
      "source": [
        "model = tf.keras.Sequential([\n",
        "  keras.layers.Embedding(vocab_size, embedding_dim, input_length=max_len),\n",
        "  keras.layers.LSTM(150),\n",
        "  keras.layers.Dense(100, activation='relu'),\n",
        "  keras.layers.Dense(1, activation='sigmoid')\n",
        "])\n",
        "\n",
        "adam = keras.optimizers.Adam()\n",
        "\n",
        "model.compile(\n",
        "    loss='binary_crossentropy',\n",
        "    optimizer=adam,\n",
        "    metrics=['accuracy']\n",
        ")\n",
        "\n",
        "model.summary()"
      ],
      "execution_count": null,
      "outputs": [
        {
          "output_type": "stream",
          "text": [
            "Model: \"sequential_1\"\n",
            "_________________________________________________________________\n",
            "Layer (type)                 Output Shape              Param #   \n",
            "=================================================================\n",
            "embedding (Embedding)        (None, 150, 100)          250100    \n",
            "_________________________________________________________________\n",
            "lstm (LSTM)                  (None, 150)               150600    \n",
            "_________________________________________________________________\n",
            "dense_2 (Dense)              (None, 100)               15100     \n",
            "_________________________________________________________________\n",
            "dense_3 (Dense)              (None, 1)                 101       \n",
            "=================================================================\n",
            "Total params: 415,901\n",
            "Trainable params: 415,901\n",
            "Non-trainable params: 0\n",
            "_________________________________________________________________\n"
          ],
          "name": "stdout"
        }
      ]
    },
    {
      "cell_type": "code",
      "metadata": {
        "colab": {
          "base_uri": "https://localhost:8080/"
        },
        "id": "pP458-_31BoP",
        "outputId": "c49112c8-9520-430a-dfea-6200d7784dbd"
      },
      "source": [
        "model.fit(training_sequences_padded, training_labels, batch_size=32, epochs=16, validation_split=0.2, verbose=1)"
      ],
      "execution_count": null,
      "outputs": [
        {
          "output_type": "stream",
          "text": [
            "Epoch 1/16\n",
            "472/472 [==============================] - 114s 238ms/step - loss: 0.6862 - accuracy: 0.5213 - val_loss: 0.6846 - val_accuracy: 0.5150\n",
            "Epoch 2/16\n",
            "472/472 [==============================] - 113s 239ms/step - loss: 0.6766 - accuracy: 0.5157 - val_loss: 0.6857 - val_accuracy: 0.5113\n",
            "Epoch 3/16\n",
            "472/472 [==============================] - 116s 246ms/step - loss: 0.6709 - accuracy: 0.5297 - val_loss: 0.6840 - val_accuracy: 0.5150\n",
            "Epoch 4/16\n",
            "472/472 [==============================] - 111s 236ms/step - loss: 0.6706 - accuracy: 0.5266 - val_loss: 0.6974 - val_accuracy: 0.5150\n",
            "Epoch 5/16\n",
            "472/472 [==============================] - 109s 231ms/step - loss: 0.6302 - accuracy: 0.5895 - val_loss: 0.5042 - val_accuracy: 0.7819\n",
            "Epoch 6/16\n",
            "472/472 [==============================] - 112s 237ms/step - loss: 0.4132 - accuracy: 0.8266 - val_loss: 0.3774 - val_accuracy: 0.8315\n",
            "Epoch 7/16\n",
            "472/472 [==============================] - 112s 237ms/step - loss: 0.3250 - accuracy: 0.8742 - val_loss: 0.3536 - val_accuracy: 0.8485\n",
            "Epoch 8/16\n",
            "472/472 [==============================] - 111s 236ms/step - loss: 0.2889 - accuracy: 0.8937 - val_loss: 0.3373 - val_accuracy: 0.8713\n",
            "Epoch 9/16\n",
            "472/472 [==============================] - 111s 234ms/step - loss: 0.2590 - accuracy: 0.9077 - val_loss: 0.3435 - val_accuracy: 0.8726\n",
            "Epoch 10/16\n",
            "472/472 [==============================] - 111s 236ms/step - loss: 0.2311 - accuracy: 0.9229 - val_loss: 0.3661 - val_accuracy: 0.8700\n",
            "Epoch 11/16\n",
            "472/472 [==============================] - 110s 233ms/step - loss: 0.2163 - accuracy: 0.9300 - val_loss: 0.3557 - val_accuracy: 0.8745\n",
            "Epoch 12/16\n",
            "472/472 [==============================] - 114s 241ms/step - loss: 0.2024 - accuracy: 0.9360 - val_loss: 0.3834 - val_accuracy: 0.8695\n",
            "Epoch 13/16\n",
            "472/472 [==============================] - 116s 245ms/step - loss: 0.1827 - accuracy: 0.9461 - val_loss: 0.4311 - val_accuracy: 0.8700\n",
            "Epoch 14/16\n",
            "472/472 [==============================] - 122s 259ms/step - loss: 0.1753 - accuracy: 0.9482 - val_loss: 0.4011 - val_accuracy: 0.8705\n",
            "Epoch 15/16\n",
            "472/472 [==============================] - 113s 239ms/step - loss: 0.1654 - accuracy: 0.9538 - val_loss: 0.4280 - val_accuracy: 0.8711\n",
            "Epoch 16/16\n",
            "472/472 [==============================] - 122s 259ms/step - loss: 0.1585 - accuracy: 0.9568 - val_loss: 0.4142 - val_accuracy: 0.8729\n"
          ],
          "name": "stdout"
        },
        {
          "output_type": "execute_result",
          "data": {
            "text/plain": [
              "<tensorflow.python.keras.callbacks.History at 0x7f06ae19b990>"
            ]
          },
          "metadata": {
            "tags": []
          },
          "execution_count": 25
        }
      ]
    },
    {
      "cell_type": "markdown",
      "metadata": {
        "id": "yuOjIRAlUDy_"
      },
      "source": [
        "### LSTM Results"
      ]
    },
    {
      "cell_type": "code",
      "metadata": {
        "id": "acqAcRcbGsyx"
      },
      "source": [
        "#Plotting the results of the LSTM model\n",
        "import matplotlib.pyplot as plt\n",
        "\n",
        "def plot_graphs(history, string):\n",
        "  plt.plot(history.history[string])\n",
        "  plt.plot(history.history['val_' + string])\n",
        "  plt.xlabel('epochs')\n",
        "  plt.ylabel(string)\n",
        "  plt.legend([string, 'val_' + string])\n",
        "  plt.show()"
      ],
      "execution_count": null,
      "outputs": []
    },
    {
      "cell_type": "code",
      "metadata": {
        "colab": {
          "base_uri": "https://localhost:8080/",
          "height": 592
        },
        "id": "rvWbsFy14n8X",
        "outputId": "61da8d9c-b992-43e1-def7-54b10bc9a401"
      },
      "source": [
        "plot_graphs(model.history, 'accuracy') \n",
        "plot_graphs(model.history, 'loss')\n",
        "score = model.evaluate(test_sequences_padded, test_labels) \n",
        "print(\"Acc: \", score[1])\n",
        "print(\"Loss: \", score[0]) "
      ],
      "execution_count": null,
      "outputs": [
        {
          "output_type": "display_data",
          "data": {
            "image/png": "[encoded data removed]",
            "text/plain": [
              "<Figure size 432x288 with 1 Axes>"
            ]
          },
          "metadata": {
            "tags": [],
            "needs_background": "light"
          }
        },
        {
          "output_type": "display_data",
          "data": {
            "image/png": "[encoded data removed]",
            "text/plain": [
              "<Figure size 432x288 with 1 Axes>"
            ]
          },
          "metadata": {
            "tags": [],
            "needs_background": "light"
          }
        },
        {
          "output_type": "stream",
          "text": [
            "295/295 [==============================] - 17s 58ms/step - loss: 0.4188 - accuracy: 0.8689\n",
            "Acc:  0.8689237833023071\n",
            "Loss:  0.41878387331962585\n"
          ],
          "name": "stdout"
        }
      ]
    },
    {
      "cell_type": "code",
      "metadata": {
        "id": "X2ADiBTGqXZ1"
      },
      "source": [
        "#Trying out some predictions:\n",
        "def make_pred(review):\n",
        "  cleaned_review = clean([review])\n",
        "  print(cleaned_review)\n",
        "  pred_seq = tokenizer.texts_to_sequences(cleaned_review)\n",
        "  pred_seq_padded = pad_sequences(pred_seq, maxlen=max_len, padding=padding_type)\n",
        "  pred_seq_padded = np.array(pred_seq_padded)\n",
        "  y_pred = model.predict(pred_seq_padded)\n",
        "  print(y_pred)\n",
        "  print(round(y_pred[0][0])) #The sigmoid actiavtion function returns a probability between 0 and 1 and where everything over 0.5 represent the prediction of label 1, and everything under represents the prediction of label 0"
      ],
      "execution_count": null,
      "outputs": []
    },
    {
      "cell_type": "code",
      "metadata": {
        "colab": {
          "base_uri": "https://localhost:8080/"
        },
        "id": "cVg5q3mtjVHx",
        "outputId": "3503c6d2-2a30-4595-852e-a6fb31b144a3"
      },
      "source": [
        "rev = 'This was one of the best restaurants I have ever been to. The food tasted great. The servcie was very good aswell. It was delicious. Love to eat'\n",
        "pred = make_pred(rev)"
      ],
      "execution_count": null,
      "outputs": [
        {
          "output_type": "stream",
          "text": [
            "['this one best restaurants i ever to the food tasted great the servcie good aswell it delicious love eat ']\n",
            "[[0.05344683]]\n",
            "0\n"
          ],
          "name": "stdout"
        }
      ]
    },
    {
      "cell_type": "markdown",
      "metadata": {
        "id": "9FTG90gecdlU"
      },
      "source": [
        "### BERT"
      ]
    },
    {
      "cell_type": "markdown",
      "metadata": {
        "id": "GfhpnQOBDvCm"
      },
      "source": [
        "\n",
        "> BERT is a pretrained transformer created by Google. Transformers are a state-of-the-art deep learning architecture so I wanted to test the performance with this dataset\n",
        "\n"
      ]
    },
    {
      "cell_type": "code",
      "metadata": {
        "id": "dUg7qxT6cfyY"
      },
      "source": [
        "#Loading the model from tensorflow hub\n",
        "bert_preprocess = hub.KerasLayer(\"https://tfhub.dev/tensorflow/bert_en_uncased_preprocess/3\")\n",
        "bert_encoder = hub.KerasLayer('https://tfhub.dev/tensorflow/bert_en_uncased_L-12_H-768_A-12/4')\n",
        "\n",
        "def get_sentence_embedding(text):\n",
        "  preprocessed_text = bert_preprocess(text)\n",
        "  return bert_encoder(preprocessed_text)['pooled_output']"
      ],
      "execution_count": null,
      "outputs": []
    },
    {
      "cell_type": "code",
      "metadata": {
        "colab": {
          "base_uri": "https://localhost:8080/"
        },
        "id": "W4blcb5ZcgMM",
        "outputId": "8f47e074-af15-4208-8fd9-ded00f7e6768"
      },
      "source": [
        "#The model\n",
        "text_input = keras.layers.Input(shape=(), dtype=tf.string)\n",
        "preprocessed_text = bert_preprocess(text_input)\n",
        "outputs = bert_encoder(preprocessed_text)\n",
        "\n",
        "x = keras.layers.Dropout(0.1)(outputs['pooled_output'])\n",
        "x = keras.layers.Dense(100, activation='relu')(x)\n",
        "x = keras.layers.Dense(1, activation='sigmoid')(x)\n",
        "\n",
        "bert_model = keras.Model(inputs=[text_input], outputs=[x])\n",
        "\n",
        "bert_model.compile(\n",
        "    loss='binary_crossentropy',\n",
        "    optimizer='adam',\n",
        "    metrics=['accuracy']\n",
        ")\n",
        "\n",
        "\n",
        "bert_model.summary()"
      ],
      "execution_count": null,
      "outputs": [
        {
          "output_type": "stream",
          "text": [
            "Model: \"model_2\"\n",
            "__________________________________________________________________________________________________\n",
            "Layer (type)                    Output Shape         Param #     Connected to                     \n",
            "==================================================================================================\n",
            "input_3 (InputLayer)            [(None,)]            0                                            \n",
            "__________________________________________________________________________________________________\n",
            "keras_layer (KerasLayer)        {'input_type_ids': ( 0           input_3[0][0]                    \n",
            "__________________________________________________________________________________________________\n",
            "keras_layer_1 (KerasLayer)      {'default': (None, 7 109482241   keras_layer[2][0]                \n",
            "                                                                 keras_layer[2][1]                \n",
            "                                                                 keras_layer[2][2]                \n",
            "__________________________________________________________________________________________________\n",
            "dropout_2 (Dropout)             (None, 768)          0           keras_layer_1[2][13]             \n",
            "__________________________________________________________________________________________________\n",
            "dense_2 (Dense)                 (None, 100)          76900       dropout_2[0][0]                  \n",
            "__________________________________________________________________________________________________\n",
            "dense_3 (Dense)                 (None, 1)            101         dense_2[0][0]                    \n",
            "==================================================================================================\n",
            "Total params: 109,559,242\n",
            "Trainable params: 77,001\n",
            "Non-trainable params: 109,482,241\n",
            "__________________________________________________________________________________________________\n"
          ],
          "name": "stdout"
        }
      ]
    },
    {
      "cell_type": "code",
      "metadata": {
        "colab": {
          "base_uri": "https://localhost:8080/"
        },
        "id": "9HKggTsD_Tr3",
        "outputId": "1bb9bd75-db80-4a0a-b9db-25e377f089da"
      },
      "source": [
        "bert_model.fit(X_train, y_train, epochs=15)"
      ],
      "execution_count": null,
      "outputs": [
        {
          "output_type": "stream",
          "text": [
            "Epoch 1/15\n",
            "589/589 [==============================] - 201s 338ms/step - loss: 0.5687 - accuracy: 0.6980\n",
            "Epoch 2/15\n",
            "589/589 [==============================] - 199s 337ms/step - loss: 0.5100 - accuracy: 0.7506\n",
            "Epoch 3/15\n",
            "589/589 [==============================] - 199s 337ms/step - loss: 0.4946 - accuracy: 0.7650\n",
            "Epoch 4/15\n",
            "589/589 [==============================] - 199s 337ms/step - loss: 0.4876 - accuracy: 0.7694\n",
            "Epoch 5/15\n",
            "589/589 [==============================] - 199s 337ms/step - loss: 0.4872 - accuracy: 0.7690\n",
            "Epoch 6/15\n",
            "589/589 [==============================] - 199s 337ms/step - loss: 0.4818 - accuracy: 0.7724\n",
            "Epoch 7/15\n",
            "589/589 [==============================] - 199s 337ms/step - loss: 0.4786 - accuracy: 0.7758\n",
            "Epoch 8/15\n",
            "589/589 [==============================] - 199s 337ms/step - loss: 0.4745 - accuracy: 0.7781\n",
            "Epoch 9/15\n",
            "589/589 [==============================] - 199s 337ms/step - loss: 0.4736 - accuracy: 0.7747\n",
            "Epoch 10/15\n",
            "589/589 [==============================] - 198s 337ms/step - loss: 0.4740 - accuracy: 0.7764\n",
            "Epoch 11/15\n",
            "589/589 [==============================] - 198s 337ms/step - loss: 0.4743 - accuracy: 0.7764\n",
            "Epoch 12/15\n",
            "589/589 [==============================] - 198s 337ms/step - loss: 0.4716 - accuracy: 0.7790\n",
            "Epoch 13/15\n",
            "589/589 [==============================] - 199s 337ms/step - loss: 0.4652 - accuracy: 0.7816\n",
            "Epoch 14/15\n",
            "589/589 [==============================] - 198s 337ms/step - loss: 0.4689 - accuracy: 0.7788\n",
            "Epoch 15/15\n",
            "589/589 [==============================] - 199s 338ms/step - loss: 0.4675 - accuracy: 0.7807\n"
          ],
          "name": "stdout"
        },
        {
          "output_type": "execute_result",
          "data": {
            "text/plain": [
              "<tensorflow.python.keras.callbacks.History at 0x7fd836633190>"
            ]
          },
          "metadata": {
            "tags": []
          },
          "execution_count": 17
        }
      ]
    },
    {
      "cell_type": "code",
      "metadata": {
        "colab": {
          "base_uri": "https://localhost:8080/"
        },
        "id": "7Ol0BaRdNMm1",
        "outputId": "38507026-51c0-475e-9de3-fbe67aa09484"
      },
      "source": [
        "bert_score = bert_model.evaluate(X_test, y_test)\n",
        "print(\"Acc: \", bert_score[1])\n",
        "print(\"Loss: \", bert_score[0])\n",
        "\n",
        "#Result was not quite as good as using LSTMs"
      ],
      "execution_count": null,
      "outputs": [
        {
          "output_type": "stream",
          "text": [
            "295/295 [==============================] - 100s 338ms/step - loss: 0.4485 - accuracy: 0.7965\n",
            "Acc:  0.7965400218963623\n",
            "Loss:  0.44850948452949524\n"
          ],
          "name": "stdout"
        }
      ]
    },
    {
      "cell_type": "markdown",
      "metadata": {
        "id": "jqhg2CTUDExw"
      },
      "source": [
        "### Saving the model and the tokenizer for deployment"
      ]
    },
    {
      "cell_type": "code",
      "metadata": {
        "id": "2DuA7ZJn9YSp"
      },
      "source": [
        "import pickle\n",
        "with open('tokenizer.pickle', 'wb') as handle:\n",
        "    pickle.dump(tokenizer, handle, protocol=pickle.HIGHEST_PROTOCOL)\n"
      ],
      "execution_count": null,
      "outputs": []
    },
    {
      "cell_type": "code",
      "metadata": {
        "id": "EISFLv1U5K7w"
      },
      "source": [
        "model.save('model.h5')"
      ],
      "execution_count": null,
      "outputs": []
    },
    {
      "cell_type": "code",
      "metadata": {
        "id": "rn9AR2O15ZQi"
      },
      "source": [
        "new_model = tf.keras.models.load_model('model.h5')"
      ],
      "execution_count": null,
      "outputs": []
    },
    {
      "cell_type": "code",
      "metadata": {
        "colab": {
          "base_uri": "https://localhost:8080/"
        },
        "id": "x1bGSQRdFHpI",
        "outputId": "a0257d3e-5600-47cc-d6e6-8e460ac13c21"
      },
      "source": [
        "new_score = new_model.evaluate(test_sequences_padded, test_labels) \n",
        "print(\"Acc: \", new_score[1])\n",
        "print(\"Loss: \", new_score[0]) "
      ],
      "execution_count": null,
      "outputs": [
        {
          "output_type": "stream",
          "text": [
            "295/295 [==============================] - 17s 56ms/step - loss: 0.4188 - accuracy: 0.8689\n",
            "Acc:  0.8689237833023071\n",
            "Loss:  0.41878387331962585\n"
          ],
          "name": "stdout"
        }
      ]
    },
    {
      "cell_type": "code",
      "metadata": {
        "colab": {
          "base_uri": "https://localhost:8080/"
        },
        "id": "brzX67RD5wVF",
        "outputId": "25baddc7-3d8f-4cc0-980f-e0f9b1609770"
      },
      "source": [
        "#Testing the model\n",
        "rev = \"The food was disgusting and the service was awful. I never want to go back again\"\n",
        "cleaned_review = clean([rev])\n",
        "pred_seq = tokenizer.texts_to_sequences(cleaned_review)\n",
        "pred_seq_padded = pad_sequences(pred_seq, maxlen=max_len, padding=padding_type)\n",
        "pred_seq_padded = np.array(pred_seq_padded)\n",
        "print(pred_seq_padded[0][:10])\n",
        "a = new_model.predict(pred_seq_padded)\n",
        "print(a[0][0])"
      ],
      "execution_count": null,
      "outputs": [
        {
          "output_type": "stream",
          "text": [
            "[  3   4 765   7 409   2  54 109  16  23]\n",
            "0.9864112\n"
          ],
          "name": "stdout"
        }
      ]
    },
    {
      "cell_type": "code",
      "metadata": {
        "colab": {
          "base_uri": "https://localhost:8080/",
          "height": 17
        },
        "id": "NX5DNmW-6uhX",
        "outputId": "b6c60bf3-76f1-4a7b-f6f7-6edf9337431a"
      },
      "source": [
        "#Downloading the model file\n",
        "from google.colab import files\n",
        "files.download('model.h5')"
      ],
      "execution_count": null,
      "outputs": [
        {
          "output_type": "display_data",
          "data": {
            "application/javascript": [
              "\n",
              "    async function download(id, filename, size) {\n",
              "      if (!google.colab.kernel.accessAllowed) {\n",
              "        return;\n",
              "      }\n",
              "      const div = document.createElement('div');\n",
              "      const label = document.createElement('label');\n",
              "      label.textContent = `Downloading \"${filename}\": `;\n",
              "      div.appendChild(label);\n",
              "      const progress = document.createElement('progress');\n",
              "      progress.max = size;\n",
              "      div.appendChild(progress);\n",
              "      document.body.appendChild(div);\n",
              "\n",
              "      const buffers = [];\n",
              "      let downloaded = 0;\n",
              "\n",
              "      const channel = await google.colab.kernel.comms.open(id);\n",
              "      // Send a message to notify the kernel that we're ready.\n",
              "      channel.send({})\n",
              "\n",
              "      for await (const message of channel.messages) {\n",
              "        // Send a message to notify the kernel that we're ready.\n",
              "        channel.send({})\n",
              "        if (message.buffers) {\n",
              "          for (const buffer of message.buffers) {\n",
              "            buffers.push(buffer);\n",
              "            downloaded += buffer.byteLength;\n",
              "            progress.value = downloaded;\n",
              "          }\n",
              "        }\n",
              "      }\n",
              "      const blob = new Blob(buffers, {type: 'application/binary'});\n",
              "      const a = document.createElement('a');\n",
              "      a.href = window.URL.createObjectURL(blob);\n",
              "      a.download = filename;\n",
              "      div.appendChild(a);\n",
              "      a.click();\n",
              "      div.remove();\n",
              "    }\n",
              "  "
            ],
            "text/plain": [
              "<IPython.core.display.Javascript object>"
            ]
          },
          "metadata": {
            "tags": []
          }
        },
        {
          "output_type": "display_data",
          "data": {
            "application/javascript": [
              "download(\"download_ddac5463-b246-4aed-8c49-2f0db7756a01\", \"model.h5\", 5030616)"
            ],
            "text/plain": [
              "<IPython.core.display.Javascript object>"
            ]
          },
          "metadata": {
            "tags": []
          }
        }
      ]
    }
  ]
}